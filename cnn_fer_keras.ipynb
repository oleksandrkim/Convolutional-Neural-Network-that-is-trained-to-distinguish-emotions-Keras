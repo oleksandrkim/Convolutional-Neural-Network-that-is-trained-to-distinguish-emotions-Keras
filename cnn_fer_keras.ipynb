{
 "cells": [
  {
   "cell_type": "markdown",
   "metadata": {},
   "source": [
    "## Convolutional Neural Network that is trained to distinguish emotions (Keras)"
   ]
  },
  {
   "cell_type": "markdown",
   "metadata": {},
   "source": [
    "- Number of pictures: **36 076 (size 48 by 48)**\n",
    "- Number of emotions to classify: **7**\n",
    "- Dataset: https://www.kaggle.com/c/challenges-in-representation-learning-facial-expression-recognition-challenge"
   ]
  },
  {
   "cell_type": "markdown",
   "metadata": {},
   "source": [
    "**Convert csv to images:** <br>\n",
    "This is **not** a required step, but I had curiosity to see how images looked like before they were converted to csv. The initial file provided in kaggle - csv file."
   ]
  },
  {
   "cell_type": "markdown",
   "metadata": {},
   "source": [
    "This code transforms csv back to images, saving the category of the image in the name of the images. This allows to distinguish categories easier in the future."
   ]
  },
  {
   "cell_type": "code",
   "execution_count": 1,
   "metadata": {},
   "outputs": [],
   "source": [
    "import pandas as pd\n",
    "import numpy as np\n",
    "from PIL import Image\n",
    "\n",
    "df = pd.read_csv('fer2013.csv', sep=',')\n",
    "h,w = 48,48 #setting width and height\n",
    "\n",
    "for i in range(len(df)):\n",
    "    input = df.iloc[i, 1]\n",
    "    my_list = input.replace(\" \", \",\").split(\",\") #replace spaces and convert to list\n",
    "    narray = np.asarray(my_list)\n",
    "    img = Image.fromarray(np.uint8(narray.reshape(h,w)) , 'L')\n",
    "    label = df['emotion'][i]\n",
    "    img.save(str(label)+\"_\"+str(i)+'image.png')"
   ]
  },
  {
   "cell_type": "markdown",
   "metadata": {},
   "source": [
    "**Example of a image**"
   ]
  },
  {
   "cell_type": "code",
   "execution_count": 175,
   "metadata": {},
   "outputs": [
    {
     "data": {
      "text/plain": [
       "<matplotlib.image.AxesImage at 0x24b8b0c8eb8>"
      ]
     },
     "execution_count": 175,
     "metadata": {},
     "output_type": "execute_result"
    },
    {
     "data": {
      "image/png": "[encoded data removed]",
      "text/plain": [
       "<Figure size 432x288 with 1 Axes>"
      ]
     },
     "metadata": {},
     "output_type": "display_data"
    }
   ],
   "source": [
    "from matplotlib.pyplot import imshow\n",
    "import numpy as np\n",
    "from PIL import Image\n",
    "\n",
    "%matplotlib inline\n",
    "pil_im = Image.open('data/train/0/0_40image.png', 'r').convert('RGB')\n",
    "imshow(np.asarray(pil_im))"
   ]
  },
  {
   "cell_type": "markdown",
   "metadata": {},
   "source": [
    "Import Kaggle"
   ]
  },
  {
   "cell_type": "code",
   "execution_count": 8,
   "metadata": {},
   "outputs": [],
   "source": [
    "import warnings\n",
    "warnings.filterwarnings('ignore')\n",
    "\n",
    "from keras.models import Sequential\n",
    "from keras.layers import Conv2D\n",
    "from keras.layers import MaxPooling2D\n",
    "from keras.layers import Flatten\n",
    "from keras.layers import Dense"
   ]
  },
  {
   "cell_type": "markdown",
   "metadata": {},
   "source": [
    "### Build CNN Model"
   ]
  },
  {
   "cell_type": "markdown",
   "metadata": {},
   "source": [
    "**Initialising the CNN**"
   ]
  },
  {
   "cell_type": "code",
   "execution_count": 9,
   "metadata": {},
   "outputs": [],
   "source": [
    "classifier = Sequential()"
   ]
  },
  {
   "cell_type": "markdown",
   "metadata": {},
   "source": [
    "**First convolutional layer** <br>\n",
    "64 - number of feature detectors of size 5 by 5 <br>\n",
    "Relu as an activation function <br>\n",
    "Even though pictures initialy were white-and-black, the number of channels is 3. Converting csv back to pictures applied channel 3"
   ]
  },
  {
   "cell_type": "code",
   "execution_count": 10,
   "metadata": {},
   "outputs": [],
   "source": [
    "classifier.add(Conv2D(64, (5, 5), input_shape = (48, 48, 3), activation = 'relu', data_format=\"channels_last\")) #some mistake, needs 3, but pictures are not colorful"
   ]
  },
  {
   "cell_type": "markdown",
   "metadata": {},
   "source": [
    "**Pooling Step** <br>\n",
    "Size of a stride: 2 by 2"
   ]
  },
  {
   "cell_type": "code",
   "execution_count": 11,
   "metadata": {},
   "outputs": [],
   "source": [
    "classifier.add(MaxPooling2D(pool_size = (2, 2)))"
   ]
  },
  {
   "cell_type": "markdown",
   "metadata": {},
   "source": [
    "**Second convolutional and pooling layers** <br>\n",
    "64 - number of feature detectors of size 5 by 5 <br>\n",
    "Relu as an activation function <br>\n",
    "Size of a stride: 3 by 3"
   ]
  },
  {
   "cell_type": "code",
   "execution_count": 12,
   "metadata": {},
   "outputs": [],
   "source": [
    "classifier.add(Conv2D(64, (5, 5), activation = 'relu'))\n",
    "classifier.add(MaxPooling2D(pool_size = (3, 3)))"
   ]
  },
  {
   "cell_type": "markdown",
   "metadata": {},
   "source": [
    "**Flattening**"
   ]
  },
  {
   "cell_type": "code",
   "execution_count": 13,
   "metadata": {},
   "outputs": [],
   "source": [
    "classifier.add(Flatten())"
   ]
  },
  {
   "cell_type": "markdown",
   "metadata": {},
   "source": [
    "**Dense layers**<br>\n",
    "units = 7 - number of categories <br>\n",
    "softmax is better as an activation function for models with >2 categories"
   ]
  },
  {
   "cell_type": "code",
   "execution_count": 14,
   "metadata": {},
   "outputs": [],
   "source": [
    "classifier.add(Dense(units = 128, activation = 'relu'))\n",
    "classifier.add(Dense(units = 7, activation = 'softmax'))"
   ]
  },
  {
   "cell_type": "markdown",
   "metadata": {},
   "source": [
    "**Compile the CNN**"
   ]
  },
  {
   "cell_type": "code",
   "execution_count": 15,
   "metadata": {},
   "outputs": [],
   "source": [
    "classifier.compile(optimizer = 'adam', loss = 'categorical_crossentropy', metrics = ['accuracy'])"
   ]
  },
  {
   "cell_type": "markdown",
   "metadata": {},
   "source": [
    "### Fitting images into a model"
   ]
  },
  {
   "cell_type": "markdown",
   "metadata": {},
   "source": [
    "**Rotating, rescalling, zooming images - creating new pictures from old ones;enriching and preventing overfitting**"
   ]
  },
  {
   "cell_type": "code",
   "execution_count": 17,
   "metadata": {},
   "outputs": [],
   "source": [
    "from keras.preprocessing.image import ImageDataGenerator\n",
    "train_datagen = ImageDataGenerator(rescale = 1./255, #all pixels between 0 and 1\n",
    "                                   shear_range = 0.2, \n",
    "                                   zoom_range = 0.2, #zooming\n",
    "                                   horizontal_flip = True) #flipping horizontally\n",
    "                                    #there are more transformations in docs"
   ]
  },
  {
   "cell_type": "markdown",
   "metadata": {},
   "source": [
    "Rescale test data"
   ]
  },
  {
   "cell_type": "code",
   "execution_count": 19,
   "metadata": {},
   "outputs": [],
   "source": [
    "test_datagen = ImageDataGenerator(rescale = 1./255)"
   ]
  },
  {
   "cell_type": "code",
   "execution_count": 20,
   "metadata": {},
   "outputs": [
    {
     "name": "stdout",
     "output_type": "stream",
     "text": [
      "Found 29300 images belonging to 7 classes.\n",
      "Found 6770 images belonging to 7 classes.\n"
     ]
    }
   ],
   "source": [
    "training_set = train_datagen.flow_from_directory('data/train',\n",
    "                                                 target_size = (48, 48), #size of images that are expected\n",
    "                                                 batch_size = 10, #after what number of phoos weights will be updated\n",
    "                                                 class_mode = 'categorical') \n",
    "\n",
    "test_set = test_datagen.flow_from_directory('data/test',\n",
    "                                            target_size = (48, 48),\n",
    "                                            batch_size = 10,\n",
    "                                            class_mode = 'categorical')"
   ]
  },
  {
   "cell_type": "code",
   "execution_count": 21,
   "metadata": {},
   "outputs": [
    {
     "name": "stdout",
     "output_type": "stream",
     "text": [
      "Epoch 1/25\n",
      "2930/2930 [==============================] - 1016s 347ms/step - loss: 1.6488 - acc: 0.3429 - val_loss: 1.4820 - val_acc: 0.4173\n",
      "Epoch 2/25\n",
      "2930/2930 [==============================] - 331s 113ms/step - loss: 1.4503 - acc: 0.4447 - val_loss: 1.3899 - val_acc: 0.4616\n",
      "Epoch 3/25\n",
      "2930/2930 [==============================] - 330s 113ms/step - loss: 1.3822 - acc: 0.4646 - val_loss: 1.3504 - val_acc: 0.4716\n",
      "Epoch 4/25\n",
      "2930/2930 [==============================] - 295s 101ms/step - loss: 1.3344 - acc: 0.4907 - val_loss: 1.3146 - val_acc: 0.4870\n",
      "Epoch 5/25\n",
      "2930/2930 [==============================] - 294s 100ms/step - loss: 1.2962 - acc: 0.5079 - val_loss: 1.2785 - val_acc: 0.5034\n",
      "Epoch 6/25\n",
      "2930/2930 [==============================] - 312s 107ms/step - loss: 1.2620 - acc: 0.5178 - val_loss: 1.2941 - val_acc: 0.5078\n",
      "Epoch 7/25\n",
      "2930/2930 [==============================] - 307s 105ms/step - loss: 1.2406 - acc: 0.5257 - val_loss: 1.2525 - val_acc: 0.5164\n",
      "Epoch 8/25\n",
      "2930/2930 [==============================] - 292s 100ms/step - loss: 1.2210 - acc: 0.5352 - val_loss: 1.2758 - val_acc: 0.5194\n",
      "Epoch 9/25\n",
      "2930/2930 [==============================] - 291s 99ms/step - loss: 1.1960 - acc: 0.5473 - val_loss: 1.2684 - val_acc: 0.5102\n",
      "Epoch 10/25\n",
      "2930/2930 [==============================] - 285s 97ms/step - loss: 1.1837 - acc: 0.5509 - val_loss: 1.2590 - val_acc: 0.5130\n",
      "Epoch 11/25\n",
      "2930/2930 [==============================] - 289s 99ms/step - loss: 1.1667 - acc: 0.5574 - val_loss: 1.2588 - val_acc: 0.5309\n",
      "Epoch 12/25\n",
      "2930/2930 [==============================] - 286s 98ms/step - loss: 1.1470 - acc: 0.5666 - val_loss: 1.2179 - val_acc: 0.5365\n",
      "Epoch 13/25\n",
      "2930/2930 [==============================] - 286s 98ms/step - loss: 1.1386 - acc: 0.5681 - val_loss: 1.2311 - val_acc: 0.5285\n",
      "Epoch 14/25\n",
      "2930/2930 [==============================] - 532s 182ms/step - loss: 1.1201 - acc: 0.5746 - val_loss: 1.2576 - val_acc: 0.5233\n",
      "Epoch 15/25\n",
      "2930/2930 [==============================] - 325s 111ms/step - loss: 1.1071 - acc: 0.5810 - val_loss: 1.2390 - val_acc: 0.5300\n",
      "Epoch 16/25\n",
      "2930/2930 [==============================] - 301s 103ms/step - loss: 1.0951 - acc: 0.5848 - val_loss: 1.2535 - val_acc: 0.5211\n",
      "Epoch 17/25\n",
      "2930/2930 [==============================] - 289s 99ms/step - loss: 1.0869 - acc: 0.5857 - val_loss: 1.2265 - val_acc: 0.5390\n",
      "Epoch 18/25\n",
      "2930/2930 [==============================] - 289s 99ms/step - loss: 1.0715 - acc: 0.5945 - val_loss: 1.2855 - val_acc: 0.5349\n",
      "Epoch 19/25\n",
      "2930/2930 [==============================] - 290s 99ms/step - loss: 1.0700 - acc: 0.5978 - val_loss: 1.2452 - val_acc: 0.5470\n",
      "Epoch 20/25\n",
      "2930/2930 [==============================] - 293s 100ms/step - loss: 1.0572 - acc: 0.6032 - val_loss: 1.2430 - val_acc: 0.5482\n",
      "Epoch 21/25\n",
      "2930/2930 [==============================] - 291s 99ms/step - loss: 1.0438 - acc: 0.6046 - val_loss: 1.2584 - val_acc: 0.5433\n",
      "Epoch 22/25\n",
      "2930/2930 [==============================] - 993s 339ms/step - loss: 1.0367 - acc: 0.6091 - val_loss: 1.2542 - val_acc: 0.5335\n",
      "Epoch 23/25\n",
      "2930/2930 [==============================] - 343s 117ms/step - loss: 1.0275 - acc: 0.6129 - val_loss: 1.2680 - val_acc: 0.5439\n",
      "Epoch 24/25\n",
      "2930/2930 [==============================] - 327s 112ms/step - loss: 1.0200 - acc: 0.6115 - val_loss: 1.2630 - val_acc: 0.5493\n",
      "Epoch 25/25\n",
      "2930/2930 [==============================] - 310s 106ms/step - loss: 1.0121 - acc: 0.6192 - val_loss: 1.2842 - val_acc: 0.5340\n"
     ]
    },
    {
     "data": {
      "text/plain": [
       "<keras.callbacks.History at 0x24b86e914a8>"
      ]
     },
     "execution_count": 21,
     "metadata": {},
     "output_type": "execute_result"
    }
   ],
   "source": [
    "classifier.fit_generator(training_set,\n",
    "                         steps_per_epoch = (29300/10), #size of a batch\n",
    "                         epochs = 25,\n",
    "                         validation_data = test_set,\n",
    "                         validation_steps = (6776/10))"
   ]
  },
  {
   "cell_type": "markdown",
   "metadata": {},
   "source": [
    "The accuracy of a model is aroung 54%. I suppose more epochs, more complicated model can improve the quality. Moreover, some emotions (Anger, Disgust) are similar and photos of these categories look alike, so it is hard to distinguish some of categories from one another."
   ]
  },
  {
   "cell_type": "markdown",
   "metadata": {},
   "source": [
    "### Predict category for a single image <br>\n",
    "Now, after the model was trained, a prediction on new images can be made. A single image from test data will be categorized to find what emotion is presented on this image."
   ]
  },
  {
   "cell_type": "code",
   "execution_count": 176,
   "metadata": {},
   "outputs": [
    {
     "data": {
      "text/plain": [
       "<matplotlib.image.AxesImage at 0x24b8b119320>"
      ]
     },
     "execution_count": 176,
     "metadata": {},
     "output_type": "execute_result"
    },
    {
     "data": {
      "image/png": "[encoded data removed]",
      "text/plain": [
       "<Figure size 432x288 with 1 Axes>"
      ]
     },
     "metadata": {},
     "output_type": "display_data"
    }
   ],
   "source": [
    "image_example = Image.open('data/test/3/3_13991image.png', 'r').convert('RGB')\n",
    "imshow(np.asarray(image_example))"
   ]
  },
  {
   "cell_type": "markdown",
   "metadata": {},
   "source": [
    "This is an image of a label \"Happy\""
   ]
  },
  {
   "cell_type": "markdown",
   "metadata": {},
   "source": [
    "**Reshape the image**"
   ]
  },
  {
   "cell_type": "code",
   "execution_count": 166,
   "metadata": {},
   "outputs": [],
   "source": [
    "from scipy.misc import imread,imresize\n",
    "\n",
    "x=imread('3_13991image.png',mode='RGB')\n",
    "x=imresize(x,(48,48))\n",
    "x=np.invert(x)\n",
    "x=x.reshape(-1,48,48,3)"
   ]
  },
  {
   "cell_type": "code",
   "execution_count": 167,
   "metadata": {},
   "outputs": [],
   "source": [
    "x = x/255."
   ]
  },
  {
   "cell_type": "markdown",
   "metadata": {},
   "source": [
    "**Predict emotion on the image**"
   ]
  },
  {
   "cell_type": "code",
   "execution_count": 168,
   "metadata": {},
   "outputs": [],
   "source": [
    "prediction = classifier.predict(x)"
   ]
  },
  {
   "cell_type": "markdown",
   "metadata": {},
   "source": [
    "**Chunk of code that tranforms index in the emotion name**"
   ]
  },
  {
   "cell_type": "code",
   "execution_count": 169,
   "metadata": {},
   "outputs": [],
   "source": [
    "#(0=Angry, 1=Disgust, 2=Fear, 3=Happy, 4=Sad, 5=Surprise, 6=Neutral)\n",
    "labels = {\n",
    "    0: \"Angry\",\n",
    "    1: \"Disgust\",\n",
    "    2: \"Fear\",\n",
    "    3: \"Happy\",\n",
    "    4: \"Sad\",\n",
    "    5: \"Surprise\",\n",
    "    6: \"Neutral\"  \n",
    "}"
   ]
  },
  {
   "cell_type": "markdown",
   "metadata": {},
   "source": [
    "**Index of the prediction**"
   ]
  },
  {
   "cell_type": "code",
   "execution_count": 171,
   "metadata": {},
   "outputs": [
    {
     "data": {
      "text/plain": [
       "3"
      ]
     },
     "execution_count": 171,
     "metadata": {},
     "output_type": "execute_result"
    }
   ],
   "source": [
    "np.argmax(prediction)"
   ]
  },
  {
   "cell_type": "markdown",
   "metadata": {},
   "source": [
    "**Transform index to label/emotion**"
   ]
  },
  {
   "cell_type": "code",
   "execution_count": 172,
   "metadata": {},
   "outputs": [
    {
     "data": {
      "text/plain": [
       "'Happy'"
      ]
     },
     "execution_count": 172,
     "metadata": {},
     "output_type": "execute_result"
    }
   ],
   "source": [
    "labels.get(np.argmax(prediction))"
   ]
  }
 ],
 "metadata": {
  "kernelspec": {
   "display_name": "Python 3",
   "language": "python",
   "name": "python3"
  },
  "language_info": {
   "codemirror_mode": {
    "name": "ipython",
    "version": 3
   },
   "file_extension": ".py",
   "mimetype": "text/x-python",
   "name": "python",
   "nbconvert_exporter": "python",
   "pygments_lexer": "ipython3",
   "version": "3.6.5"
  }
 },
 "nbformat": 4,
 "nbformat_minor": 2
}
